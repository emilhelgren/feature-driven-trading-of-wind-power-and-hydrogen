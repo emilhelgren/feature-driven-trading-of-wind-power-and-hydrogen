{
 "cells": [
  {
   "cell_type": "code",
   "execution_count": 7,
   "id": "1d271347",
   "metadata": {},
   "outputs": [],
   "source": [
    "import numpy as np"
   ]
  },
  {
   "cell_type": "code",
   "execution_count": null,
   "id": "c6adcbd6",
   "metadata": {},
   "outputs": [],
   "source": []
  },
  {
   "cell_type": "code",
   "execution_count": 55,
   "id": "76a1a84d",
   "metadata": {},
   "outputs": [],
   "source": [
    "\n",
    "class OnlineModel:\n",
    "    def __init__(self):\n",
    "        # Initialize some parameters i guess\n",
    "        self.q = np.random.randn(8)\n",
    "        self.eta = 0.0001\n",
    "        self.results = []\n",
    "        self.g_old = 0\n",
    "        \n",
    "\n",
    "\n",
    "    def predict(self, x):\n",
    "        # We receive a featurevector x, from which we estimate the vector E = [Ef, Eh]\n",
    "        E_init = np.dot(x, self.q)\n",
    "        # We then need to ensure feasibility of E_init somehow\n",
    "        E = self.projection(E_init)\n",
    "        \n",
    "        # Save results - should we save anything else than E? Then maybe do it in the same function as step or something\n",
    "        self.results.append(E)\n",
    "        \n",
    "        return E\n",
    "\n",
    "\n",
    "    \n",
    "    def gradient(self, loss):\n",
    "        return loss * 2\n",
    "    \n",
    "    def projection(self, E):\n",
    "        for i in range(2):\n",
    "            if (E[i] > 100):\n",
    "                E[i] = 100\n",
    "            elif (E[i] < 0):\n",
    "                E[i] = 0\n",
    "        return E\n",
    "\n",
    "    def step(self, loss):\n",
    "        # Calculate gradient from loss\n",
    "        g_init = self.gradient(loss)\n",
    "\n",
    "        # Maybe some regularization or at least handling of ill-formed gradients\n",
    "        if (g_init.all() == 0):\n",
    "            self.g = self.g_old\n",
    "        else:\n",
    "            self.g = self.g_old*0.2 + g_init*0.8\n",
    "\n",
    "        # Compute new stepsize\n",
    "        self.eta = self.eta + 123**1*self.g\n",
    "\n",
    "        # Update parameters\n",
    "        self.q = (self.q - self.eta*self.g)\n",
    "        \n",
    "        # Reset gradient - I recall some reset stuff from pytorch?\n",
    "        self.g_old = self.g\n",
    "        self.g = 0\n",
    "        \n",
    "\n"
   ]
  },
  {
   "cell_type": "code",
   "execution_count": 56,
   "id": "5d322112",
   "metadata": {},
   "outputs": [],
   "source": [
    "def lossFunction(pred, true):\n",
    "    return (pred - true)**2"
   ]
  },
  {
   "cell_type": "code",
   "execution_count": 57,
   "id": "9232a13a",
   "metadata": {},
   "outputs": [],
   "source": [
    "model = OnlineModel()\n",
    "\n",
    "onlineDataSeries = [[1.0,123.0], [2.0,234.0], [3.0,345.0]]\n",
    "\n",
    "\n",
    "for datapoint in onlineDataSeries:\n",
    "    pred = model.predict(datapoint[0])\n",
    "    loss = lossFunction(pred, datapoint[1])\n",
    "    model.step(loss)"
   ]
  },
  {
   "cell_type": "code",
   "execution_count": null,
   "id": "50ae9778",
   "metadata": {},
   "outputs": [],
   "source": []
  },
  {
   "cell_type": "code",
   "execution_count": null,
   "id": "73b907c5",
   "metadata": {},
   "outputs": [],
   "source": []
  },
  {
   "cell_type": "code",
   "execution_count": null,
   "id": "bb96c00e",
   "metadata": {},
   "outputs": [],
   "source": []
  }
 ],
 "metadata": {
  "kernelspec": {
   "display_name": "Python 3 (ipykernel)",
   "language": "python",
   "name": "python3"
  },
  "language_info": {
   "codemirror_mode": {
    "name": "ipython",
    "version": 3
   },
   "file_extension": ".py",
   "mimetype": "text/x-python",
   "name": "python",
   "nbconvert_exporter": "python",
   "pygments_lexer": "ipython3",
   "version": "3.10.5"
  }
 },
 "nbformat": 4,
 "nbformat_minor": 5
}
