{
 "cells": [
  {
   "cell_type": "code",
   "execution_count": 1,
   "metadata": {},
   "outputs": [],
   "source": [
    "import numpy as np\n",
    "import pandas as pd\n",
    "import matplotlib.pyplot as plt\n",
    "%matplotlib inline\n",
    "import json\n",
    "import pickle\n",
    "from datetime import datetime\n",
    "from datetime import timezone\n",
    "from scipy.stats import t\n",
    "from mat4py import loadmat\n",
    "from distfit import distfit"
   ]
  },
  {
   "cell_type": "code",
   "execution_count": 2,
   "metadata": {},
   "outputs": [],
   "source": [
    "powerdata_path = r\"./data/siemens/hourly_avg_wind_speed_and_power.mat\"\n",
    "pricedata_path = r\"./data/siemens/da_price_data_dk1_10AM.csv\"\n",
    "\n",
    "powerdata_dict_list = loadmat(powerdata_path, meta=False)\n",
    "pricedata = pd.read_csv(pricedata_path)\n",
    "pricedata.dropna(inplace=True)\n",
    "pricedata['error'] = pricedata['forecast'] - pricedata['nominal']\n",
    "\n",
    "# Get data out of singleton lists\n",
    "powerdata_dict = {}\n",
    "for key in powerdata_dict_list.keys():\n",
    "    powerdata_dict[key] = [l[0] for l in powerdata_dict_list[key]]\n",
    "powerdata = pd.DataFrame(powerdata_dict)"
   ]
  },
  {
   "cell_type": "markdown",
   "metadata": {},
   "source": [
    "# Features"
   ]
  },
  {
   "cell_type": "code",
   "execution_count": 3,
   "metadata": {},
   "outputs": [],
   "source": [
    "\n",
    "df_DK2_2019 = pd.read_csv('./data/ENTSOE_Generation Forecasts for Wind and Solar_DK2_201901010000-202001010000.csv')\n",
    "df_DK2_2020 = pd.read_csv('./data/ENTSOE_Generation Forecasts for Wind and Solar_DK2_202001010000-202101010000.csv')\n",
    "df_DK2_2021 = pd.read_csv('./data/ENTSOE_Generation Forecasts for Wind and Solar_DK2_202101010000-202201010000.csv')\n",
    "\n",
    "df_DK1_2019 = pd.read_csv('./data/ENTSOE_Generation Forecasts for Wind and Solar_DK1_201901010000-202001010000.csv')\n",
    "df_DK1_2020 = pd.read_csv('./data/ENTSOE_Generation Forecasts for Wind and Solar_DK1_202001010000-202101010000.csv')\n",
    "df_DK1_2021 = pd.read_csv('./data/ENTSOE_Generation Forecasts for Wind and Solar_DK1_202101010000-202201010000.csv')\n",
    "\n",
    "df_r_2019 = pd.read_csv('./data/ENTSOE_Actual Generation Roedsand 2_201901010000-202001020000.csv')\n",
    "df_r_2020 = pd.read_csv('./data/ENTSOE_Actual Generation Roedsand 2_202001010000-202101020000.csv')\n",
    "df_r_2021 = pd.read_csv('./data/ENTSOE_Actual Generation Roedsand 2_202101010000-202201020000.csv')"
   ]
  },
  {
   "cell_type": "code",
   "execution_count": 4,
   "metadata": {},
   "outputs": [],
   "source": [
    "dk1_list = [df_DK1_2019, df_DK1_2020, df_DK1_2021]\n",
    "df_DK1 = pd.concat(dk1_list).reset_index()\n",
    "dk2_list = [df_DK2_2019, df_DK2_2020, df_DK2_2021]\n",
    "df_DK2 = pd.concat(dk2_list).reset_index()\n",
    "df_r_list = [df_r_2019.dropna(subset=['MTU'], how='all')[:8760], df_r_2020.dropna(subset=['MTU'], how='all')[:(8760+24)], df_r_2021.dropna(subset=['MTU'], how='all')[:8760]]\n",
    "df_r = pd.concat(df_r_list).reset_index()\n",
    "\n",
    "df_DK1.set_index(\"MTU (CET/CEST)\", inplace=True)\n",
    "df_DK1 = df_DK1.loc[~df_DK1.index.duplicated(), :]\n",
    "\n",
    "df_DK2.set_index(\"MTU (CET/CEST)\", inplace=True)\n",
    "df_DK2 = df_DK2.loc[~df_DK2.index.duplicated(), :]\n"
   ]
  },
  {
   "cell_type": "code",
   "execution_count": null,
   "metadata": {},
   "outputs": [],
   "source": [
    "realized = df_r['Generation [MW]'].to_numpy().astype(float)\n",
    "realized = realized / realized.max()\n",
    "# Generate production forecast values\n",
    "t_samples_power = t.rvs(3.3465, loc=-11.0358, scale=342.945, size=len(realized))\n",
    "\n",
    "# Scale from 3 GW to 10 MW\n",
    "t_samples_power *= np.max(realized)/3000\n",
    "\n",
    "forecast = realized + t_samples_power"
   ]
  },
  {
   "cell_type": "code",
   "execution_count": null,
   "metadata": {},
   "outputs": [],
   "source": [
    "\n",
    "df_features = pd.DataFrame()\n",
    "df_features['realized'] = realized\n",
    "df_features['forecast'] = forecast\n",
    "df_features['offshore_DK2'] = df_DK2['Generation - Wind Offshore  [MW] Day Ahead/ BZN|DK2'].to_numpy().astype(float)\n",
    "df_features['offshore_DK1'] = df_DK1['Generation - Wind Offshore  [MW] Day Ahead/ BZN|DK1'].to_numpy().astype(float)\n",
    "df_features['onshore_DK2'] = df_DK2['Generation - Wind Onshore  [MW] Day Ahead/ BZN|DK2'].to_numpy().astype(float)\n",
    "df_features['onshore_DK1'] = df_DK1['Generation - Wind Onshore  [MW] Day Ahead/ BZN|DK1'].to_numpy().astype(float)\n",
    "df_features['solar_DK2'] = df_DK2['Generation - Solar  [MW] Day Ahead/ BZN|DK2'].to_numpy().astype(float)\n",
    "\n",
    "df_features.head()"
   ]
  },
  {
   "cell_type": "code",
   "execution_count": null,
   "metadata": {},
   "outputs": [],
   "source": [
    "#--------Normalize for stability\n",
    "for i in range(df_features.shape[1]-1):\n",
    "    df_features.iloc[:, i] = df_features.iloc[:, i] / df_features.iloc[:, i].max()\n",
    "\n",
    "df_features.head()"
   ]
  },
  {
   "cell_type": "code",
   "execution_count": 31,
   "metadata": {},
   "outputs": [
    {
     "data": {
      "text/plain": [
       "False"
      ]
     },
     "execution_count": 31,
     "metadata": {},
     "output_type": "execute_result"
    }
   ],
   "source": [
    "#----------N/A\n",
    "df_features.fillna(method=\"ffill\", inplace=True)\n",
    "df_features.isnull().values.any()"
   ]
  },
  {
   "cell_type": "code",
   "execution_count": 32,
   "metadata": {},
   "outputs": [
    {
     "data": {
      "text/plain": [
       "(26304, 7)"
      ]
     },
     "execution_count": 32,
     "metadata": {},
     "output_type": "execute_result"
    }
   ],
   "source": [
    "#-----------Final check\n",
    "df_features.shape"
   ]
  },
  {
   "cell_type": "code",
   "execution_count": 23,
   "metadata": {},
   "outputs": [],
   "source": [
    "SAVE_AS_CSV = True\n",
    "if (SAVE_AS_CSV):\n",
    "    df_features.to_csv('./data/features.csv')"
   ]
  },
  {
   "cell_type": "markdown",
   "metadata": {},
   "source": [
    "# Prices"
   ]
  },
  {
   "cell_type": "code",
   "execution_count": 12,
   "metadata": {},
   "outputs": [],
   "source": [
    "df_price_2019 = pd.read_csv('./data/ENTSOE_Day-ahead Prices_201901010000-202001010000.csv')\n",
    "df_price_2020 = pd.read_csv('./data/ENTSOE_Day-ahead Prices_202001010000-202101010000.csv')\n",
    "df_price_2021 = pd.read_csv('./data/ENTSOE_Day-ahead Prices_202101010000-202201010000.csv')\n",
    "df_price_2019.dropna(subset=['Day-ahead Price [EUR/MWh]'], inplace=True)\n",
    "df_price_2020.dropna(subset=['Day-ahead Price [EUR/MWh]'], inplace=True)\n",
    "df_price_2021.dropna(subset=['Day-ahead Price [EUR/MWh]'], inplace=True)\n",
    "df_price_2019.reset_index(inplace=True)\n",
    "df_price_2020.reset_index(inplace=True)\n",
    "df_price_2021.reset_index(inplace=True)\n",
    "\n",
    "\n",
    "df_price = pd.DataFrame()\n",
    "df_price[\"Forward\"] = pd.concat([df_price_2019['Day-ahead Price [EUR/MWh]'], df_price_2020['Day-ahead Price [EUR/MWh]'], df_price_2021['Day-ahead Price [EUR/MWh]']])\n",
    "\n",
    "\n",
    "df_price.reset_index(inplace=True, drop=True)\n",
    "df_price.drop([24818], inplace=True)\n",
    "df_price.loc[len(df_price.index)+1] = [46.6]\n",
    "df_price.reset_index(inplace=True, drop=True)\n",
    "df_price.to_csv('./data/forward.csv')"
   ]
  },
  {
   "cell_type": "code",
   "execution_count": 13,
   "metadata": {},
   "outputs": [],
   "source": [
    "df_imbalance_2019 = pd.read_csv('./data/ENTSOE_Imbalance_201901010000-202001010000.csv')\n",
    "df_imbalance_2020 = pd.read_csv('./data/ENTSOE_Imbalance_202001010000-202101010000.csv')\n",
    "df_imbalance_2021_all = pd.read_csv('./data/remaining_balancing_data.csv', delimiter=\";\", decimal=\",\")\n",
    "\n",
    "df_imbalance_2021_all['HourUTC'] = pd.to_datetime(df_imbalance_2021_all['HourUTC'], format='%Y-%m-%d %H:%M')\n",
    "df_imbalance_2021_all.set_index(\"HourUTC\", inplace=True)\n",
    "\n",
    "#--------fix based on analysis\n",
    "df_imbalance_2019[\"Generation / + Imbalance price [EUR/MWh] - MBA|DK2\"][6826] = 30.43\n",
    "df_imbalance_2019[\"Generation / - Imbalance price [EUR/MWh] - MBA|DK2\"][6826] = 35.24\n",
    "df_imbalance_2019.dropna(subset=['Generation / + Imbalance price [EUR/MWh] - MBA|DK2'], inplace=True)\n",
    "\n",
    "df_imbalance_2020.dropna(subset=['Generation / + Imbalance price [EUR/MWh] - MBA|DK2'], inplace=True)\n",
    "\n",
    "df_imbalance_2021_all = pd.concat([df_imbalance_2021_all, pd.Series(np.nan)])\n",
    "df_imbalance_2021_all[\"BalancingPowerPriceDownEUR\"][-1] = 46.60\n",
    "df_imbalance_2021_all[\"BalancingPowerPriceUpEUR\"][-1] = 46.60\n",
    "\n",
    "df_imbalance_dw = pd.concat([df_imbalance_2019[\"Generation / + Imbalance price [EUR/MWh] - MBA|DK2\"], df_imbalance_2020[\"Generation / + Imbalance price [EUR/MWh] - MBA|DK2\"], df_imbalance_2021_all[\"BalancingPowerPriceDownEUR\"]]).reset_index()\n",
    "df_imbalance_up = pd.concat([df_imbalance_2019[\"Generation / - Imbalance price [EUR/MWh] - MBA|DK2\"], df_imbalance_2020[\"Generation / - Imbalance price [EUR/MWh] - MBA|DK2\"], df_imbalance_2021_all[\"BalancingPowerPriceUpEUR\"]]).reset_index()\n",
    "\n",
    "df_imbalance = pd.DataFrame({\"Up\": df_imbalance_up[0].to_numpy(), \"Down\": df_imbalance_dw[0].to_numpy(), \"Forward\": df_price[\"Forward\"]})\n",
    "\n",
    "df_imbalance['SinglePrice'] = np.where(df_imbalance['Up'] != df_imbalance['Forward'], df_imbalance['Up'], df_imbalance['Down'])\n",
    "\n",
    "df_imbalance.head()\n",
    "\n",
    "df_imbalance.to_csv('./data/prices.csv')"
   ]
  },
  {
   "cell_type": "code",
   "execution_count": 14,
   "metadata": {},
   "outputs": [],
   "source": [
    "#-----------Generate forecast values\n",
    "t_samples_price = t.rvs(1.44887, loc=0.389, scale=12.089, size=len(df_imbalance[\"Forward\"].to_numpy()))\n",
    "t_samples_price *= 1/871.0*254.44\n",
    "\n",
    "forecast = df_imbalance[\"Forward\"].to_numpy() + t_samples_price"
   ]
  },
  {
   "cell_type": "code",
   "execution_count": 62,
   "metadata": {},
   "outputs": [],
   "source": [
    "df_imbalance.iloc[17638:17648, :]\n",
    "\n",
    "df_features\n",
    "# [\"forward_RE\", \"forward_FC\", \"UP\", \"DW\", \"production_RE\", \"production_FC\", \"Offshore DK2\", \"Offshore DK1\", \"Onshore DK2\", \"Onshore DK1\"]\n",
    "df_all = pd.DataFrame()\n",
    "df_all[\"forward_RE\"] = df_imbalance[[\"Forward\"]]\n",
    "df_all[\"forward_FC\"] = forecast\n",
    "df_all[\"UP\"] = df_imbalance[[\"Up\"]]\n",
    "df_all[\"DW\"] = df_imbalance[[\"Down\"]]\n",
    "df_all[\"production_RE\"] = df_features[[\"realized\"]]\n",
    "df_all[\"production_FC\"] = df_features[[\"forecast\"]]\n",
    "df_all[\"Offshore DK2\"] = df_features[[\"offshore_DK2\"]]\n",
    "df_all[\"Offshore DK1\"] = df_features[[\"offshore_DK1\"]]\n",
    "df_all[\"Onshore DK2\"] = df_features[[\"onshore_DK2\"]]\n",
    "df_all[\"Onshore DK1\"] = df_features[[\"onshore_DK1\"]]\n",
    "\n",
    "df_all.to_csv(\"2020_data\")"
   ]
  }
 ],
 "metadata": {
  "kernelspec": {
   "display_name": "Julia 1.7.3",
   "language": "julia",
   "name": "julia-1.7"
  },
  "language_info": {
   "file_extension": ".jl",
   "mimetype": "application/julia",
   "name": "julia",
   "version": "1.7.3"
  },
  "orig_nbformat": 4,
  "vscode": {
   "interpreter": {
    "hash": "369f2c481f4da34e4445cda3fffd2e751bd1c4d706f27375911949ba6bb62e1c"
   }
  }
 },
 "nbformat": 4,
 "nbformat_minor": 2
}
