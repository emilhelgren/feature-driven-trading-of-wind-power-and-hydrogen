{
 "cells": [
  {
   "cell_type": "code",
   "execution_count": 1,
   "metadata": {},
   "outputs": [],
   "source": [
    "import numpy as np\n",
    "import pandas as pd\n",
    "import matplotlib.pyplot as plt\n",
    "import json\n",
    "import pickle\n",
    "from datetime import datetime\n",
    "from datetime import timezone\n",
    "from scipy.stats import t\n",
    "from mat4py import loadmat\n",
    "from distfit import distfit"
   ]
  },
  {
   "cell_type": "code",
   "execution_count": 69,
   "metadata": {},
   "outputs": [],
   "source": [
    "powerdata_path = r\"./data/siemens/hourly_avg_wind_speed_and_power.mat\"\n",
    "pricedata_path = r\"./data/siemens/da_price_data_dk1_10AM.csv\"\n",
    "\n",
    "powerdata_dict_list = loadmat(powerdata_path, meta=False)\n",
    "pricedata = pd.read_csv(pricedata_path)\n",
    "pricedata.dropna(inplace=True)\n",
    "pricedata['error'] = pricedata['forecast'] - pricedata['nominal']\n",
    "\n",
    "# Get data out of singleton lists\n",
    "powerdata_dict = {}\n",
    "for key in powerdata_dict_list.keys():\n",
    "    powerdata_dict[key] = [l[0] for l in powerdata_dict_list[key]]\n",
    "powerdata = pd.DataFrame(powerdata_dict)"
   ]
  },
  {
   "cell_type": "markdown",
   "metadata": {},
   "source": [
    "# Features"
   ]
  },
  {
   "cell_type": "code",
   "execution_count": 26,
   "metadata": {},
   "outputs": [],
   "source": [
    "\n",
    "df_DK2_2019 = pd.read_csv('./data/ENTSOE_Generation Forecasts for Wind and Solar_DK2_201901010000-202001010000.csv')\n",
    "df_DK2_2020 = pd.read_csv('./data/ENTSOE_Generation Forecasts for Wind and Solar_DK2_202001010000-202101010000.csv')\n",
    "df_DK2_2021 = pd.read_csv('./data/ENTSOE_Generation Forecasts for Wind and Solar_DK2_202101010000-202201010000.csv')\n",
    "\n",
    "df_DK1_2019 = pd.read_csv('./data/ENTSOE_Generation Forecasts for Wind and Solar_DK1_201901010000-202001010000.csv')\n",
    "df_DK1_2020 = pd.read_csv('./data/ENTSOE_Generation Forecasts for Wind and Solar_DK1_202001010000-202101010000.csv')\n",
    "df_DK1_2021 = pd.read_csv('./data/ENTSOE_Generation Forecasts for Wind and Solar_DK1_202101010000-202201010000.csv')\n",
    "\n",
    "df_r_2019 = pd.read_csv('./data/ENTSOE_Actual Generation Roedsand 2_201901010000-202001020000.csv')\n",
    "df_r_2020 = pd.read_csv('./data/ENTSOE_Actual Generation Roedsand 2_202001010000-202101020000.csv')\n",
    "df_r_2021 = pd.read_csv('./data/ENTSOE_Actual Generation Roedsand 2_202101010000-202201020000.csv')"
   ]
  },
  {
   "cell_type": "code",
   "execution_count": 70,
   "metadata": {},
   "outputs": [],
   "source": [
    "dk1_list = [df_DK1_2019, df_DK1_2020, df_DK1_2021]\n",
    "df_DK1 = pd.concat(dk1_list).reset_index()\n",
    "dk2_list = [df_DK2_2019, df_DK2_2020, df_DK2_2021]\n",
    "df_DK2 = pd.concat(dk2_list).reset_index()\n",
    "df_r_list = [df_r_2019.dropna(subset=['MTU'], how='all')[:8760], df_r_2020.dropna(subset=['MTU'], how='all')[:(8760+24)], df_r_2021.dropna(subset=['MTU'], how='all')[:8760]]\n",
    "df_r = pd.concat(df_r_list).reset_index()\n",
    "\n",
    "df_DK1.set_index(\"MTU (CET/CEST)\", inplace=True)\n",
    "df_DK1 = df_DK1.loc[~df_DK1.index.duplicated(), :]\n",
    "\n",
    "df_DK2.set_index(\"MTU (CET/CEST)\", inplace=True)\n",
    "df_DK2 = df_DK2.loc[~df_DK2.index.duplicated(), :]\n"
   ]
  },
  {
   "cell_type": "code",
   "execution_count": null,
   "metadata": {},
   "outputs": [],
   "source": [
    "realized = df_r['Generation [MW]'].to_numpy().astype(float)\n",
    "realized = realized / realized.max()\n",
    "\n",
    "# Draw samples\n",
    "t_samples_power = t.rvs(3.3465, loc=-11.0358, scale=342.945, size=len(realized))\n",
    "\n",
    "# Scale from 3 GW to 10 MW\n",
    "t_samples_power *= np.max(realized)/3000\n",
    "forecast = realized + t_samples_power"
   ]
  },
  {
   "cell_type": "code",
   "execution_count": null,
   "metadata": {},
   "outputs": [],
   "source": [
    "\n",
    "df_forecasts = pd.DataFrame()\n",
    "df_forecasts['realized'] = realized\n",
    "df_forecasts['forecast'] = forecast\n",
    "df_forecasts['offshore_DK2'] = df_DK2['Generation - Wind Offshore  [MW] Day Ahead/ BZN|DK2'].to_numpy().astype(float)\n",
    "df_forecasts['offshore_DK1'] = df_DK1['Generation - Wind Offshore  [MW] Day Ahead/ BZN|DK1'].to_numpy().astype(float)\n",
    "df_forecasts['onshore_DK2'] = df_DK2['Generation - Wind Onshore  [MW] Day Ahead/ BZN|DK2'].to_numpy().astype(float)\n",
    "df_forecasts['onshore_DK1'] = df_DK1['Generation - Wind Onshore  [MW] Day Ahead/ BZN|DK1'].to_numpy().astype(float)\n",
    "df_forecasts['solar_DK2'] = df_DK2['Generation - Solar  [MW] Day Ahead/ BZN|DK2'].to_numpy().astype(float)\n",
    "\n",
    "df_forecasts.head()"
   ]
  },
  {
   "cell_type": "code",
   "execution_count": null,
   "metadata": {},
   "outputs": [],
   "source": [
    "#--------Normalize for stability\n",
    "for i in range(df_forecasts.shape[1]-1):\n",
    "    df_forecasts.iloc[:, i] = df_forecasts.iloc[:, i] / df_forecasts.iloc[:, i].max()\n",
    "\n",
    "df_forecasts.head()"
   ]
  },
  {
   "cell_type": "code",
   "execution_count": null,
   "metadata": {},
   "outputs": [],
   "source": [
    "df_forecasts.fillna(method=\"ffill\", inplace=True)\n",
    "df_forecasts.isnull().values.any()"
   ]
  },
  {
   "cell_type": "code",
   "execution_count": 22,
   "metadata": {},
   "outputs": [
    {
     "data": {
      "text/plain": [
       "(26304, 7)"
      ]
     },
     "execution_count": 22,
     "metadata": {},
     "output_type": "execute_result"
    }
   ],
   "source": [
    "#-----------Final check\n",
    "df_forecasts.shape"
   ]
  },
  {
   "cell_type": "code",
   "execution_count": 23,
   "metadata": {},
   "outputs": [],
   "source": [
    "SAVE_AS_CSV = True\n",
    "if (SAVE_AS_CSV):\n",
    "    df_forecasts.to_csv('./data/features.csv')"
   ]
  },
  {
   "cell_type": "markdown",
   "metadata": {},
   "source": [
    "# Prices"
   ]
  },
  {
   "cell_type": "code",
   "execution_count": 17,
   "metadata": {},
   "outputs": [],
   "source": [
    "df_price_2019 = pd.read_csv('./data/ENTSOE_Day-ahead Prices_201901010000-202001010000.csv')\n",
    "df_price_2020 = pd.read_csv('./data/ENTSOE_Day-ahead Prices_202001010000-202101010000.csv')\n",
    "df_price_2021 = pd.read_csv('./data/ENTSOE_Day-ahead Prices_202101010000-202201010000.csv')\n",
    "df_price_2019.dropna(subset=['Day-ahead Price [EUR/MWh]'], inplace=True)\n",
    "df_price_2020.dropna(subset=['Day-ahead Price [EUR/MWh]'], inplace=True)\n",
    "df_price_2021.dropna(subset=['Day-ahead Price [EUR/MWh]'], inplace=True)\n",
    "df_price_2019.reset_index(inplace=True)\n",
    "df_price_2020.reset_index(inplace=True)\n",
    "df_price_2021.reset_index(inplace=True)\n",
    "\n",
    "\n",
    "df_price = pd.DataFrame()\n",
    "df_price[\"Forward\"] = pd.concat([df_price_2019['Day-ahead Price [EUR/MWh]'], df_price_2020['Day-ahead Price [EUR/MWh]'], df_price_2021['Day-ahead Price [EUR/MWh]']])\n",
    "\n",
    "df_price.reset_index(inplace=True, drop=True)\n",
    "df_price.drop([24818], inplace=True)\n",
    "df_price.loc[len(df_price.index)+1] = [46.6]\n",
    "df_price.reset_index(inplace=True, drop=True)\n",
    "df_price.to_csv('./data/forward.csv')"
   ]
  },
  {
   "cell_type": "code",
   "execution_count": null,
   "metadata": {},
   "outputs": [],
   "source": [
    "df_imbalance_2019 = pd.read_csv('./data/ENTSOE_Imbalance_201901010000-202001010000.csv')\n",
    "df_imbalance_2020 = pd.read_csv('./data/ENTSOE_Imbalance_202001010000-202101010000.csv')\n",
    "df_imbalance_2021_all = pd.read_csv('./data/remaining_balancing_data.csv', delimiter=\";\", decimal=\",\")\n",
    "\n",
    "df_imbalance_2021_all['HourUTC'] = pd.to_datetime(df_imbalance_2021_all['HourUTC'], format='%Y-%m-%d %H:%M')\n",
    "df_imbalance_2021_all.set_index(\"HourUTC\", inplace=True)\n",
    "\n",
    "#--------fix based on N/A analysis\n",
    "df_imbalance_2019[\"Generation / + Imbalance price [EUR/MWh] - MBA|DK2\"][6826] = 30.43\n",
    "df_imbalance_2019[\"Generation / - Imbalance price [EUR/MWh] - MBA|DK2\"][6826] = 35.24\n",
    "df_imbalance_2019.dropna(subset=['Generation / + Imbalance price [EUR/MWh] - MBA|DK2'], inplace=True)\n",
    "\n",
    "df_imbalance_2020.dropna(subset=['Generation / + Imbalance price [EUR/MWh] - MBA|DK2'], inplace=True)\n",
    "\n",
    "df_imbalance_2021_all = pd.concat([df_imbalance_2021_all, pd.Series(np.nan)])\n",
    "df_imbalance_2021_all[\"BalancingPowerPriceDownEUR\"][-1] = 46.60\n",
    "df_imbalance_2021_all[\"BalancingPowerPriceUpEUR\"][-1] = 46.60\n",
    "\n",
    "df_imbalance_dw = pd.concat([df_imbalance_2019[\"Generation / + Imbalance price [EUR/MWh] - MBA|DK2\"], df_imbalance_2020[\"Generation / + Imbalance price [EUR/MWh] - MBA|DK2\"], df_imbalance_2021_all[\"BalancingPowerPriceDownEUR\"]]).reset_index()\n",
    "df_imbalance_up = pd.concat([df_imbalance_2019[\"Generation / - Imbalance price [EUR/MWh] - MBA|DK2\"], df_imbalance_2020[\"Generation / - Imbalance price [EUR/MWh] - MBA|DK2\"], df_imbalance_2021_all[\"BalancingPowerPriceUpEUR\"]]).reset_index()\n",
    "\n",
    "df_imbalance = pd.DataFrame({\"Up\": df_imbalance_up[0].to_numpy(), \"Down\": df_imbalance_dw[0].to_numpy(), \"Forward\": df_price[\"Forward\"]})\n",
    "\n",
    "df_imbalance['SinglePrice'] = np.where(df_imbalance['Up'] != df_imbalance['Forward'], df_imbalance['Up'], df_imbalance['Down'])\n",
    "\n",
    "df_imbalance.head()\n",
    "df_imbalance.to_csv('./data/prices.csv')"
   ]
  }
 ],
 "metadata": {
  "kernelspec": {
   "display_name": "Python 3.10.5 64-bit",
   "language": "python",
   "name": "python3"
  },
  "language_info": {
   "codemirror_mode": {
    "name": "ipython",
    "version": 3
   },
   "file_extension": ".py",
   "mimetype": "text/x-python",
   "name": "python",
   "nbconvert_exporter": "python",
   "pygments_lexer": "ipython3",
   "version": "3.10.5 (tags/v3.10.5:f377153, Jun  6 2022, 16:14:13) [MSC v.1929 64 bit (AMD64)]"
  },
  "orig_nbformat": 4,
  "vscode": {
   "interpreter": {
    "hash": "369f2c481f4da34e4445cda3fffd2e751bd1c4d706f27375911949ba6bb62e1c"
   }
  }
 },
 "nbformat": 4,
 "nbformat_minor": 2
}
